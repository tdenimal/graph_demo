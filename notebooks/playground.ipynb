{
 "metadata": {
  "language_info": {
   "codemirror_mode": {
    "name": "ipython",
    "version": 3
   },
   "file_extension": ".py",
   "mimetype": "text/x-python",
   "name": "python",
   "nbconvert_exporter": "python",
   "pygments_lexer": "ipython3",
   "version": "3.7.9-final"
  },
  "orig_nbformat": 2,
  "kernelspec": {
   "name": "Python 3.7.9 64-bit",
   "display_name": "Python 3.7.9 64-bit",
   "metadata": {
    "interpreter": {
     "hash": "c7a2c626adb2487b86261b71f7b1889baa67d9538915c0be7be6c3a53de2eab6"
    }
   }
  }
 },
 "nbformat": 4,
 "nbformat_minor": 2,
 "cells": [
  {
   "cell_type": "code",
   "execution_count": 23,
   "metadata": {
    "tags": []
   },
   "outputs": [
    {
     "output_type": "stream",
     "name": "stdout",
     "text": "176\n"
    }
   ],
   "source": [
    "import newspaper\n",
    "\n",
    "_20m_paper = newspaper.build('https://www.20minutes.fr/politique/', memoize_articles=False,fetch_images=False)\n",
    "\n",
    "papers = []\n",
    "urls_set = set()\n",
    "for article in _20m_paper.articles:\n",
    "   # check to see if the article url is not within the urls_set\n",
    "   if article.url not in urls_set:\n",
    "     # add the unique article url to the set\n",
    "     urls_set.add(article.url)\n",
    "     # remove all links for article commentaires\n",
    "     if not str(article.url).endswith('commentaires'):\n",
    "        papers.append(article.url)\n",
    "\n",
    "print(len(papers)) "
   ]
  },
  {
   "cell_type": "code",
   "execution_count": 24,
   "metadata": {
    "tags": []
   },
   "outputs": [
    {
     "output_type": "stream",
     "name": "stdout",
     "text": "176\n"
    }
   ],
   "source": [
    "import newspaper\n",
    "import requests\n",
    "from newspaper.utils import BeautifulSoup\n",
    "\n",
    "papers = []\n",
    "urls_set = set()\n",
    "\n",
    "base_url = 'https://www.20minutes.fr/'\n",
    "\n",
    "_20m_paper = newspaper.build(base_url, \n",
    "fetch_images=False, memoize_articles=False)\n",
    "\n",
    "for article in _20m_paper.articles:\n",
    "   # check to see if the article url is not within the urls_set\n",
    "   if article.url not in urls_set:\n",
    "     # add the unique article url to the set\n",
    "     urls_set.add(article.url)\n",
    "     # remove all links for article commentaires\n",
    "     if not str(article.url).endswith('commentaires'):\n",
    "        papers.append(article.url)\n",
    "\n",
    " \n",
    "_20_urls = {'societe': base_url+'societe',\n",
    "             'politique': base_url+'politique',\n",
    "             'faits_divers': base_url+'faits_divers',\n",
    "             'monde': base_url+'monde',\n",
    "             'culture':base_url+'culture',\n",
    "             'people': base_url+'people',\n",
    "             'sports': base_url+'sports',\n",
    "             'economie': base_url+'economie',\n",
    "             'sciences': base_url+'sciences',\n",
    "             'planete': base_url+'planete',\n",
    "             'high-tech' : base_url+'high-tech',\n",
    "             }\n",
    "\n",
    "\n",
    "for category, url in _20_urls.items():\n",
    "   raw_html = requests.get(url)\n",
    "   soup = BeautifulSoup(raw_html.text, 'html.parser')\n",
    "   for articles_tags in soup.findAll('div', {'class': 'articles'}):\n",
    "      for article_href in articles_tags.find_all('a', href=True):\n",
    "         if not str(article_href['href']).endswith('commentaires'):\n",
    "           urls_set.add(article_href['href'])\n",
    "           papers.append(article_href['href'])\n",
    "\n",
    "print(len(papers))"
   ]
  },
  {
   "cell_type": "code",
   "execution_count": 181,
   "metadata": {
    "tags": []
   },
   "outputs": [
    {
     "output_type": "stream",
     "name": "stdout",
     "text": "30\n70\n120\n180\n250\n330\n420\n520\n630\n750\n880\n1020\n1170\n1330\n1500\n1680\n1870\n2070\n2280\n2500\n2730\n2970\n3220\n3480\n3750\n4030\n4320\n4620\n4930\n5250\n5580\n5920\n6270\n6630\n7000\n7380\n7770\n8170\n8580\n9000\n9430\n9870\n10320\n10780\n11250\n11730\n12220\n12720\n13230\n13750\n14280\n14820\n15370\n15930\n16500\n17080\n17670\n18270\n18880\n19500\n20130\n20770\n"
    },
    {
     "output_type": "error",
     "ename": "KeyboardInterrupt",
     "evalue": "",
     "traceback": [
      "\u001b[0;31m---------------------------------------------------------------------------\u001b[0m",
      "\u001b[0;31mKeyboardInterrupt\u001b[0m                         Traceback (most recent call last)",
      "\u001b[0;32m<ipython-input-181-8d63398ae276>\u001b[0m in \u001b[0;36m<module>\u001b[0;34m\u001b[0m\n\u001b[1;32m     25\u001b[0m \u001b[0;32mwhile\u001b[0m \u001b[0;32mTrue\u001b[0m\u001b[0;34m:\u001b[0m\u001b[0;34m\u001b[0m\u001b[0;34m\u001b[0m\u001b[0m\n\u001b[1;32m     26\u001b[0m     \u001b[0;32mtry\u001b[0m\u001b[0;34m:\u001b[0m\u001b[0;34m\u001b[0m\u001b[0;34m\u001b[0m\u001b[0m\n\u001b[0;32m---> 27\u001b[0;31m         \u001b[0mtime\u001b[0m\u001b[0;34m.\u001b[0m\u001b[0msleep\u001b[0m\u001b[0;34m(\u001b[0m\u001b[0;36m1\u001b[0m\u001b[0;34m)\u001b[0m\u001b[0;34m\u001b[0m\u001b[0;34m\u001b[0m\u001b[0m\n\u001b[0m\u001b[1;32m     28\u001b[0m         \u001b[0mshow_more\u001b[0m \u001b[0;34m=\u001b[0m \u001b[0mwait\u001b[0m\u001b[0;34m.\u001b[0m\u001b[0muntil\u001b[0m\u001b[0;34m(\u001b[0m\u001b[0mEC\u001b[0m\u001b[0;34m.\u001b[0m\u001b[0melement_to_be_clickable\u001b[0m\u001b[0;34m(\u001b[0m\u001b[0;34m(\u001b[0m\u001b[0mBy\u001b[0m\u001b[0;34m.\u001b[0m\u001b[0mXPATH\u001b[0m\u001b[0;34m,\u001b[0m \u001b[0;34m'//button[@type=\"button\"][contains(.,\"Voir plus\")]'\u001b[0m\u001b[0;34m)\u001b[0m\u001b[0;34m)\u001b[0m\u001b[0;34m)\u001b[0m\u001b[0;34m\u001b[0m\u001b[0;34m\u001b[0m\u001b[0m\n\u001b[1;32m     29\u001b[0m         \u001b[0mbrowser\u001b[0m\u001b[0;34m.\u001b[0m\u001b[0mexecute_script\u001b[0m\u001b[0;34m(\u001b[0m\u001b[0;34m\"arguments[0].click();\"\u001b[0m\u001b[0;34m,\u001b[0m \u001b[0mshow_more\u001b[0m\u001b[0;34m)\u001b[0m\u001b[0;34m\u001b[0m\u001b[0;34m\u001b[0m\u001b[0m\n",
      "\u001b[0;31mKeyboardInterrupt\u001b[0m: "
     ]
    }
   ],
   "source": [
    "import time\n",
    "import requests\n",
    "from bs4 import BeautifulSoup\n",
    "import json\n",
    "import string\n",
    "from selenium import webdriver\n",
    "from selenium.webdriver.common.by import By\n",
    "from selenium.webdriver.support.ui import WebDriverWait\n",
    "from selenium.webdriver.support import expected_conditions as EC\n",
    "\n",
    "\n",
    "base_url = 'https://www.20minutes.fr/'\n",
    "\n",
    "papers = []\n",
    "urls_set = set()\n",
    "\n",
    "browser = webdriver.Chrome('/mnt/c/users/tdenimal/Downloads/chromedriver_win32/chromedriver.exe')\n",
    "wait = WebDriverWait(browser, 10)\n",
    "\n",
    "\n",
    "browser.get(base_url+'politique')\n",
    "browser.execute_script(\"window.scrollTo(0, document.body.scrollHeight);\")\n",
    "\n",
    "\n",
    "while True:\n",
    "    try:\n",
    "        time.sleep(1)\n",
    "        show_more = wait.until(EC.element_to_be_clickable((By.XPATH, '//button[@type=\"button\"][contains(.,\"Voir plus\")]')))\n",
    "        browser.execute_script(\"arguments[0].click();\", show_more)\n",
    "    except Exception as e:\n",
    "            print(e)\n",
    "            break\n",
    "    \n",
    "    soup = BeautifulSoup(browser.page_source, 'html.parser')\n",
    "    for articles_tags in soup.findAll('article'):\n",
    "        for article_href in articles_tags.find_all('a', href=True):\n",
    "            if not str(article_href['href']).endswith('commentaires'):\n",
    "                urls_set.add(article_href['href'])\n",
    "                papers.append(article_href['href'])\n",
    "\n",
    "    print(len(papers))"
   ]
  },
  {
   "cell_type": "code",
   "execution_count": 27,
   "metadata": {},
   "outputs": [],
   "source": [
    "import spacy\n",
    "from spacy import displacy\n",
    "from collections import Counter\n",
    "import fr_core_news_lg\n",
    "nlp = fr_core_news_lg.load()"
   ]
  },
  {
   "cell_type": "code",
   "execution_count": 208,
   "metadata": {},
   "outputs": [],
   "source": [
    "import numpy as np\n",
    "from newspaper import Article\n",
    "\n",
    "#ners = []\n",
    "for i,p in enumerate(papers[17462:]):\n",
    "    try:\n",
    "        article = Article(url=base_url+p[1:], language='fr')\n",
    "        article.download()\n",
    "        article.parse()\n",
    "    except:\n",
    "        print(\"Retry article #\"+str(i))\n",
    "        pass\n",
    "\n",
    "    doc = nlp(article.text)\n",
    "    ner = [(X.text, X.label_) for X in doc.ents]\n",
    "#Return only unique tupe\n",
    "    ner = [tuple(i) for i in np.unique(ner, axis=0)]\n",
    "    ners += [ner]"
   ]
  },
  {
   "cell_type": "code",
   "execution_count": 94,
   "metadata": {},
   "outputs": [],
   "source": [
    "import numpy as np\n",
    "import itertools\n",
    "from scipy.sparse import csr_matrix\n",
    "\n",
    "\n",
    "def create_co_occurences_matrix(allowed_words, documents):\n",
    "    print(f\"allowed_words:\\n{allowed_words}\")\n",
    "    print(f\"documents:\\n{documents}\")\n",
    "    word_to_id = dict(zip(allowed_words, range(len(allowed_words))))\n",
    "    #List of ids in each document\n",
    "    documents_as_ids = [np.sort([word_to_id[w] for w in doc if w in word_to_id]).astype('uint32') for doc in documents]\n",
    "    \n",
    "    row_ind, col_ind = zip(*itertools.chain(*[[(i, w) for w in doc] for i, doc in enumerate(documents_as_ids)]))\n",
    "    data = np.ones(len(row_ind), dtype='uint32')  # use unsigned int for better memory utilization\n",
    "    max_word_id = max(itertools.chain(*documents_as_ids)) + 1\n",
    "    docs_words_matrix = csr_matrix((data, (row_ind, col_ind)), shape=(len(documents_as_ids), max_word_id))  # efficient arithmetic operations with CSR * CSR\n",
    "    words_cooc_matrix = docs_words_matrix.T * docs_words_matrix  # multiplying docs_words_matrix with its transpose matrix would generate the co-occurences matrix\n",
    "    words_cooc_matrix.setdiag(0)\n",
    "    print(f\"words_cooc_matrix:\\n{words_cooc_matrix.todense()}\")\n",
    "    return words_cooc_matrix, word_to_id "
   ]
  },
  {
   "cell_type": "code",
   "execution_count": 211,
   "metadata": {},
   "outputs": [],
   "source": [
    "unique_values = [tuple(i) for i in np.unique(np.concatenate(ners), axis=0)]\n"
   ]
  },
  {
   "cell_type": "code",
   "execution_count": 215,
   "metadata": {
    "tags": [
     "outputPrepend"
    ]
   },
   "outputs": [
    {
     "output_type": "stream",
     "name": "stdout",
     "text": "R'), ('Edouard Philippe', 'PER'), ('François Hollande', 'PER'), ('Jacques Chirac', 'PER'), ('Matignon', 'PER'), ('Olivier Coret', 'PER'), ('Premier ministre', 'PER'), ('Républicains', 'ORG'), ('SIPA', 'ORG'), ('Ve République', 'ORG'), ('du Havre', 'LOC'), ('plateau de France', 'LOC')], [('AFP', 'ORG'), ('Christophe Simon', 'PER'), ('EELV', 'ORG'), ('Elysée', 'ORG'), ('Emmanuel Macron', 'PER'), ('Insoumis', 'ORG'), ('Jean-Luc Mélenchon', 'PER'), ('LREM', 'ORG'), ('La République en Marche', 'MISC'), ('Marseille', 'LOC'), ('président de la République', 'PER')], [('20 Minutes', 'MISC'), ('20 Minutes\\n\\nFrédérique Thiennot', 'MISC'), ('André Trigano', 'PER'), ('André Trigano\\u200b', 'PER'), ('Appaméens', 'LOC'), ('Ariège', 'LOC'), ('B. Colin', 'PER'), ('Daniel Mémain', 'PER'), ('DvD', 'MISC'), ('Frédérique Thiennot', 'PER'), ('Pamiers', 'LOC')], [('Absolument', 'PER'), ('Allez', 'MISC'), ('Bedarrides', 'LOC'), ('Brune Poirson', 'PER'), ('CNews', 'ORG'), ('Carpentras', 'LOC'), ('Chenu', 'PER'), ('Cnews', 'LOC'), ('LREM', 'ORG'), ('Madame', 'PER'), ('Mazan', 'LOC'), ('Morières-lès-Avignon', 'LOC'), ('Poirson', 'PER'), ('RN', 'ORG'), ('Rassemblement national', 'ORG'), ('Sébastien Chenu', 'PER'), ('Transition écologique Brune Poirson', 'MISC'), ('Vaucluse', 'LOC'), ('plateau de Cnews', 'LOC'), ('État', 'LOC')], [('AFP', 'ORG'), ('France', 'LOC'), ('France insoumise', 'ORG'), ('Georges Képénékian', 'PER'), ('Grégory Doucet', 'PER'), ('Gérard Collomb', 'PER'), ('Handicap international', 'ORG'), ('Hilare', 'PER'), ('Lyon', 'LOC'), ('Olivier Chassignole', 'PER'), ('Yann Cucherat', 'PER'), ('hôtel de ville de Lyon', 'LOC')], [('AFP', 'ORG'), ('Aix-en-Provence', 'LOC'), ('Anne', 'PER'), ('Bouches', 'LOC'), ('La République', 'LOC'), ('Laurence Petel', 'PER'), ('Le Havre', 'LOC'), ('Marc Pena', 'PER'), ('Maryse Joissains', 'PER'), ('Pascal Guyot', 'PER'), ('Rhône', 'LOC'), ('Républicains', 'ORG'), ('République', 'LOC')], [('AFP', 'ORG'), ('Brune Poirson', 'PER'), ('Etat', 'LOC'), ('France 2', 'ORG'), ('Grégory Doucet', 'PER'), ('Gérard Collomb', 'PER'), ('LR', 'ORG'), ('LREM', 'ORG'), ('La République', 'LOC'), ('Lyon', 'LOC'), ('RESULTATS', 'MISC'), ('République', 'MISC'), ('Sibeth Ndiaye', 'PER'), ('Transition écologique', 'MISC'), ('Yann Cucherat', 'PER')], [('AFP', 'ORG'), ('Bertrand', 'PER'), ('Bertrand de la Chesnaie', 'PER'), ('Carpentras', 'LOC'), ('Carpentrassiens', 'MISC'), ('Claude Melquior', 'PER'), ('France 3 Provence', 'LOC'), ('Front national', 'ORG'), ('GERARD JULIEN', 'ORG'), ('Jean-Marie Le Pen', 'PER'), ('LR', 'ORG'), ('Les Républicains', 'ORG'), ('Marion Maréchal', 'PER'), ('Rassemblement national', 'ORG'), ('Rassemblement national brigue', 'ORG'), ('Serge Andrieu', 'PER'), ('Vaucluse', 'LOC')], [('#Municipales2020 — 20 Minutes Rennes', 'MISC'), ('APEI / 20 Minutes\\n\\n', 'MISC'), ('Bretagne', 'LOC'), ('Bruno Blanchard', 'PER'), ('C. Allain', 'PER'), ('Damien Girard', 'PER'), ('EELV', 'ORG'), ('Fabrice Loher', 'PER'), ('France 3 Bretagne', 'LOC'), ('Jean-Yves Le Drian', 'PER'), ('June 28', 'MISC'), ('LREM', 'ORG'), ('Laurent Tonnerre', 'PER'), ('Lorient', 'LOC'), ('Matthieu Theurier', 'PER'), ('Morbihan', 'LOC'), ('Norbert Métairie', 'PER'), ('PS', 'ORG'), ('Rennes', 'LOC'), ('TRIBORD', 'LOC'), ('sous-préfecture du Morbihan', 'LOC')], [('Bruay-la-Buissière', 'LOC'), ('CEDRIC BUFKENS', 'PER'), ('Le Pen', 'PER'), ('Louis Aliot', 'PER'), ('Moissac', 'LOC'), ('Pas-de-Calais', 'LOC'), ('Perpignan', 'LOC'), ('Rassemblement national', 'ORG'), ('Rassemblement national Marine', 'ORG'), ('SIPA', 'ORG'), ('TF1', 'ORG'), ('Tarn-et-Garonne', 'LOC')], [('Edouard Philippe', 'PER'), ('Laurent Hénart', 'PER'), ('Manuel Valls', 'PER'), ('Martine Aubry', 'PER'), ('Mathieu Klein', 'PER'), ('Meurthe-et-Moselle', 'LOC'), ('Michel Dinet', 'PER'), ('Moselle', 'LOC'), ('Nancy', 'LOC'), ('PS', 'ORG'), ('Parti socialiste', 'ORG'), ('Vosges', 'LOC')], [('20 Minutes', 'MISC'), ('20 Minutes', 'ORG'), ('Agnès Buzyn', 'PER'), ('Aller', 'LOC'), ('Anne Hidalgo', 'PER'), ('Arrnaud Ngatcha', 'PER'), ('Autolib’, marché de', 'ORG'), ('Benjamin Griveaux', 'PER'), ('Bertrand Delanoë', 'PER'), ('Blitzkrieg »', 'MISC'), ('Bruno Julliard', 'PER'), ('Château', 'LOC'), ('Conseil de Paris', 'ORG'), ('Cédric Villani', 'PER'), ('David Belliard', 'PER'), ('Elabe', 'ORG'), ('Emmanuel Grégoire', 'PER'), ('Florence Berthout', 'PER'), ('Génération', 'ORG'), ('Hôtel de Ville', 'LOC'), ('JDD', 'ORG'), ('JOLY', 'PER'), ('Jean-Louis Missika', 'PER'), ('Jeux olympiques', 'MISC'), ('LR', 'ORG'), ('LREM', 'ORG'), ('LRI', 'ORG'), ('Le Parisien', 'ORG'), ('Les Républicain et Indépendants', 'ORG'), ('Les Échos', 'ORG'), ('Macron', 'PER'), ('Noël', 'MISC'), ('PS', 'ORG'), ('Paris', 'LOC'), ('Parisiennes', 'LOC'), ('Parisiens', 'LOC'), ('Parti communiste', 'ORG'), ('ROMUALD', 'MISC'), ('Rachida Dati', 'PER'), ('Radio classique', 'ORG'), ('SIPA', 'ORG'), ('SIPA PRESS', 'ORG'), ('Vélib’', 'MISC'), ('les Marcheurs', 'MISC'), ('les Verts', 'ORG'), (\"pont d'Arcole\", 'LOC'), ('Ça', 'MISC')], [('Daniel Richard', 'PER'), ('Gard', 'LOC'), ('Jean-Paul Fournier', 'PER'), ('LODI Franck', 'LOC'), ('LR', 'ORG'), ('LREM', 'ORG'), ('Nouveau centre', 'ORG'), ('Nîmes', 'LOC'), ('Nîmes(Gard', 'LOC'), ('Nîmois', 'LOC'), ('Nîmoises', 'LOC'), ('RN', 'LOC'), ('SIPA', 'ORG'), ('Via Occitanie', 'LOC'), ('Vincent Bouget', 'PER'), ('Yoann Gillet', 'PER'), ('Yvan Lachaud', 'PER')], [('France 2', 'ORG'), ('NICOLAS MESSYASZ', 'MISC'), ('Olivier Faure', 'PER'), ('PS', 'ORG'), ('Parti socialiste', 'ORG'), ('SIPA', 'ORG'), ('la France', 'LOC')], [('Convention', 'MISC'), ('Edouard Philippe', 'PER'), ('Elysée', 'ORG'), ('Emmanuel Macron', 'PER'), ('Etat', 'LOC'), ('POOL', 'ORG'), ('Premier ministre', 'PER'), ('Raphael Lafargue', 'PER'), ('République', 'LOC'), ('SIPA', 'ORG'), ('au Havre', 'LOC')], [('AFP', 'ORG'), ('Arles', 'LOC'), ('Arlésiennes', 'MISC'), ('Arlésiens', 'MISC'), ('Bouches-du-Rhône', 'LOC'), ('France Télévisions', 'ORG'), ('GERARD JULIEN', 'ORG'), ('Hervé Schiavetti', 'PER'), ('Nicolas Koukas', 'PER'), ('PCF', 'ORG'), ('Patrick de Carolis', 'PER'), ('de France', 'LOC')], [('François Hollande', 'PER'), ('Jean-Claude Boulard', 'PER'), ('Mans', 'LOC'), ('Marietta Karamanli', 'PER'), ('P.Siccoli', 'ORG'), ('PS', 'ORG'), ('Sipa', 'ORG'), ('Stéphane Le Foll', 'PER')], [('AFP', 'ORG'), ('Lionel Bonaventure', 'PER'), ('Marion Maréchal', 'PER'), ('Moissac', 'LOC'), ('RN', 'LOC'), ('Rassemblement national', 'ORG'), ('Romain', 'LOC'), ('Romain Lopez', 'PER'), ('Tarn-et-Garonne', 'LOC')], [('Alain ROBERT', 'PER'), ('Anne Vignot', 'PER'), ('Besançon', 'LOC'), ('EELV', 'ORG'), ('Eric Alauzet', 'PER'), ('LR', 'ORG'), ('LREM', 'ORG'), ('Ludovic Fagaut', 'PER'), ('SIPA', 'ORG'), ('de Besançon', 'LOC')], [('AFP', 'ORG'), ('Alain Claeys', 'PER'), ('Alain Clays', 'PER'), ('EELV', 'ORG'), ('June 28', 'MISC'), ('Léonore Moncond’huy', 'PER'), ('M.Libert', 'PER'), ('NR Poitiers', 'PER'), ('PS', 'ORG'), ('Poitiers', 'LOC'), ('Poitiers Collectif', 'ORG'), ('Vienne', 'LOC')], [('Agnès Langevine', 'PER'), ('Alain ROBERT', 'PER'), ('Béziers', 'LOC'), ('EELV', 'ORG'), ('FN', 'ORG'), ('Hérault', 'LOC'), ('Jean-Marc Pujol', 'PER'), ('LR', 'ORG'), ('LREM', 'ORG'), ('Louis Aliot', 'PER'), ('Orientales', 'LOC'), ('Perpignan', 'LOC'), ('Pyrénées', 'LOC'), ('RN', 'LOC'), ('RTL', 'ORG'), ('Rassemblement national', 'ORG'), ('Robert Ménard', 'PER'), ('Romain Grau', 'PER'), ('SIPA', 'ORG')], [('Edouard Philippe', 'PER'), ('Emmanuel Macron', 'PER'), ('LREM', 'ORG'), ('Maritime', 'LOC'), ('Premier ministre', 'PER'), ('ROBIN LETELLIER', 'LOC'), ('SIPA', 'ORG'), ('Seine', 'LOC'), ('au Havre', 'LOC'), ('président de la République', 'PER')], [('20 Minutes', 'MISC'), ('Bordeaux', 'LOC'), ('DR', 'ORG'), ('Lille', 'LOC'), ('Lyon', 'LOC'), ('Marseille', 'LOC'), ('Montpellier', 'LOC'), ('Nantes', 'LOC'), ('Nice', 'LOC'), ('Paris', 'LOC'), ('Rennes', 'LOC'), ('Strasbourg', 'LOC'), ('Toulouse', 'LOC'), ('de France', 'LOC'), ('la France', 'LOC')], [('EELV', 'ORG'), ('Julie Laernoes', 'PER'), ('Nantes', 'LOC'), ('PS', 'ORG')], [('Alain Anziani', 'PER'), ('Bordeaux', 'LOC'), ('LR', 'ORG'), ('Mérignac', 'LOC'), ('PS', 'ORG'), ('Patrick Bobet', 'PER'), ('Pierre Hurmic', 'PER'), ('TV7', 'MISC')], [('EELV', 'ORG'), ('Eric Piolle', 'PER'), ('Gérard Collomb', 'PER'), ('LR', 'ORG'), ('Les Républicains', 'ORG'), ('Lyon', 'LOC'), (\"ex-ministre de l'Intérieur\", 'ORG')], [('A Nancy', 'LOC'), ('Alain Fontanel', 'PER'), ('Alsace', 'LOC'), ('Catherine Trautmann', 'PER'), ('Châlons-en-Champagne', 'LOC'), ('Colmar', 'LOC'), ('Graffenstaden', 'LOC'), ('Grand-Est', 'LOC'), ('Illkirch', 'LOC'), ('Jean-Philippe Vetter', 'PER'), ('Jeanne Barseghian', 'PER'), ('LR', 'ORG'), ('LREM', 'ORG'), ('Metz', 'LOC'), ('Mulhouse', 'LOC'), ('Strasbourg', 'LOC')], [('Antoine Maurice', 'PER'), ('Capitole', 'LOC'), ('France', 'LOC'), ('Jean Luc Moudenc', 'PER'), ('Jean-Luc Moudenc', 'PER'), ('June 28', 'MISC'), ('LR', 'ORG'), ('Toulouse', 'LOC')], [('20 Minutes', 'LOC'), ('20 Minutes', 'MISC'), ('Antoine Baudino', 'PER'), ('Bricarde', 'LOC'), ('Bruno Gilles', 'PER'), ('David Galtier', 'PER'), ('June 28', 'MISC'), ('LR', 'ORG'), ('Marseille', 'LOC'), ('Martine Vassal', 'PER'), ('Nord', 'LOC'), ('Printemps Marseillais', 'MISC'), ('RN', 'LOC'), ('Samia Ghali', 'PER'), ('Stéphane Ravier', 'PER'), ('Vassal', 'PER')], [('Carros', 'LOC'), ('Catherine Le Lan', 'PER'), ('Charles Scibetta', 'PER'), ('Christophe Etoré', 'PER'), ('DIV', 'ORG'), ('Golfe Juan', 'LOC'), ('Joseph Cesaro', 'PER'), ('Kevin Luciano', 'PER'), ('LDIV', 'MISC'), ('LDVC', 'ORG'), ('LDVG', 'ORG'), ('LR', 'ORG'), ('Marc Daunis', 'PER'), ('Michelle Salucki', 'PER'), ('Patrick Scalzo', 'PER'), ('Régis Lebrigue', 'PER'), ('Valbonne', 'LOC'), ('Vallauris', 'LOC'), ('Vence', 'LOC'), ('Yannick Bernard', 'PER')], [('Carole Gandon', 'PER'), ('Charles Compagnon', 'PER'), ('LREM', 'ORG'), ('Matthieu Theurier', 'PER'), ('Nathalie Appéré', 'PER'), ('Rennes', 'LOC')], [('Damien Castelain', 'PER'), ('MEL', 'LOC'), ('Mons-en-Barœul', 'LOC'), ('Métropole européenne de Lille', 'LOC'), ('Péronne-en-Mélantois', 'LOC'), ('Rudy Elegeest', 'PER')], [('Angela Merkel', 'PER'), ('Berlin', 'LOC'), ('Burkina Faso', 'LOC'), ('COP21', 'MISC'), ('Convention', 'MISC'), ('Ecologie et la Justice', 'ORG'), ('Edouard Philippe', 'PER'), ('Education et de la Culture', 'ORG'), ('Elysée', 'ORG'), ('Emmanuel Macron', 'PER'), ('Etat départemental', 'LOC'), ('Fondation européenne pour le climat', 'ORG'), ('Français', 'LOC'), ('François Molins', 'PER'), ('G5 Sahel', 'LOC'), ('Gérald Darmanin', 'PER'), ('Jean-Michel Blanquer', 'PER'), ('LREM', 'ORG'), ('Laurence Tubiana', 'PER'), ('Mali', 'LOC'), ('Mauritanie', 'LOC'), ('Meseberg', 'LOC'), ('Niger', 'LOC'), ('Nouakchott', 'LOC'), ('POOL', 'ORG'), ('Pascal Canfin', 'PER'), ('Philippe or not Philippe', 'MISC'), ('Raphael Lafargue', 'PER'), ('République', 'LOC'), ('SIPA', 'ORG'), ('Sébastien Lecornu', 'PER'), ('Tchad', 'LOC')], [('Gard', 'LOC'), ('Jean-Paul Fournier', 'PER'), ('LR', 'ORG'), ('LREM', 'ORG'), ('Midi Libre', 'PER'), ('Nîmes', 'LOC'), ('RN', 'LOC'), ('Vincent Bouget', 'PER'), ('Yoann Gillet', 'PER'), ('Yvan Lachaud', 'PER'), ('préfecture du Gard', 'LOC')], [('Aimer Toulouse', 'MISC'), ('Antoine Maurice', 'PER'), ('Archipel Citoyen', 'LOC'), ('Archipel citoyen', 'MISC'), ('Bonnefoy', 'PER'), ('Camille', 'PER'), ('Capitole', 'LOC'), ('Château de l’Hers', 'LOC'), ('Haute-Garonne', 'LOC'), ('Hugo', 'PER'), ('J. Rimbert', 'PER'), ('Jean-Luc Moudenc', 'PER'), ('June 28', 'MISC'), ('LR', 'ORG'), ('Le J’Go', 'MISC'), ('Les Républicains', 'ORG'), ('Municipales2020', 'MISC'), ('Régine', 'PER'), ('Toulousains', 'LOC'), ('Toulouse', 'LOC'), ('Ville rose', 'LOC'), ('cathédrale Saint-Etienne', 'LOC'), ('château de l’Hers', 'LOC'), ('place Victor', 'LOC')], [('ALLILI MOURAD', 'MISC'), ('Allier', 'LOC'), ('Bouches-du-Rhône', 'LOC'), ('Bourgoin', 'LOC'), ('Cantal', 'LOC'), ('Corse du Sud', 'LOC'), ('Hauts-de-Seine', 'LOC'), ('Ille-et-Vilaine', 'LOC'), ('Isère', 'LOC'), ('Jallieu', 'LOC'), ('Landes', 'LOC'), ('Lozère', 'LOC'), ('Nord', 'LOC'), ('Paris', 'LOC'), ('Rhône', 'LOC'), ('SIPA', 'ORG'), ('Seine-Saint-Denis', 'LOC'), (\"Val d'Oise\", 'LOC'), ('ministère de l’Intérieur', 'ORG'), ('ministère de l’Intérieur\\n\\nIllustration', 'ORG')], [('Albane Gaillot', 'PER'), ('Assemblée', 'ORG'), ('Aurélien Taché', 'PER'), ('Brandy Boloko', 'MISC'), ('Cité des Chances', 'LOC'), ('Courdimanche', 'LOC'), ('Delphne Bagarry', 'PER'), ('Dorian Dreuil', 'PER'), ('EDS', 'ORG'), ('Ecologie Démocratie', 'ORG'), ('Elvira Jaouën', 'PER'), ('Emilie Cariou', 'PER'), ('Hubert Julien', 'PER'), ('JDD', 'ORG'), ('June 28', 'MISC'), ('Leferrière', 'PER'), ('NICOLAS MESSYASZ', 'MISC'), ('NOUVEAU MOUVEMENT', 'MISC'), ('Nous Demain', 'MISC'), ('NousDemain', 'MISC'), ('Paula Forteza', 'PER'), (\"Plaidoyer pour l'engagement citoyen\", 'ORG'), ('Rejoignez', 'LOC'), ('SIPA', 'ORG'), (\"Val-d'Oise\", 'LOC'), ('https://t.co/JGUzo3XAFZ', 'MISC'), ('Ça', 'MISC')], [('Emoi de la', 'ORG'), ('Marc Burlat', 'PER'), ('Marseille', 'LOC'), ('PM', 'ORG'), ('Printemps marseillais', 'MISC')], [('Alexis Kohler', 'PER'), ('Eliot Blondet', 'PER'), ('Elysée', 'ORG'), ('Eric Ciotti', 'PER'), ('Fillon', 'PER'), ('François Fillon', 'PER'), ('JUSTICE', 'MISC'), ('Journal du Dimanche', 'MISC'), ('Justice', 'ORG'), ('LR', 'ORG'), ('Nicolas Sarkozy', 'PER'), ('PNF', 'ORG'), ('POOL', 'ORG'), ('Parquet national financier', 'ORG'), ('SIPA', 'ORG'), ('Thierry Herzog', 'PER'), ('Éliane Houlette', 'PER')], [('Agnès Pannier', 'PER'), ('Air France', 'ORG'), ('Assemblée', 'ORG'), ('Assemblée Nationale', 'ORG'), ('Bruno Le Maire', 'PER'), ('Convention', 'MISC'), ('Eric Woerth', 'PER'), ('Etat', 'LOC'), ('Etat aux Transports', 'ORG'), ('FINANCES', 'ORG'), ('Finances', 'ORG'), ('France', 'LOC'), ('GNR', 'MISC'), ('Jean-Baptiste Djebbari', 'PER'), ('LR', 'ORG'), ('LREM', 'ORG'), ('Laurent Saint-Martin', 'PER'), ('Macron', 'PER'), ('PLFR', 'MISC'), ('Runacher', 'PER'), ('Thomas SAMSON', 'PER'), ('Val-de-Marne', 'LOC'), ('ministre de l’Economie', 'ORG')], [('15e arrondissement de Paris', 'LOC'), ('Agnès Buzyn', 'PER'), ('Agnès Evren', 'PER'), ('Atlantique', 'LOC'), ('Covid-19', 'MISC'), ('Douarnenez', 'LOC'), ('Finistère', 'LOC'), ('Français', 'LOC'), ('Français', 'MISC'), ('GILLES', 'LOC'), ('Guyane', 'LOC'), ('Hugues Tupin', 'PER'), ('Ifop', 'ORG'), ('Jean-Pierre Le Scornet', 'PER'), ('Jean-Sébastien Guitton', 'PER'), ('LR', 'ORG'), ('LREM', 'ORG'), ('Loire', 'LOC'), ('Mayenne', 'LOC'), ('Moselle', 'LOC'), ('Odoxa', 'ORG'), ('Orvault', 'LOC'), ('Paris', 'LOC'), ('Pierre Cuny', 'PER'), ('SIPA', 'ORG'), ('Sylvain Maillard', 'PER'), ('Thionville', 'LOC')], [('20 Minutes\\n\\n', 'MISC'), ('Antoine Maurice', 'PER'), ('Archipel Citoyen', 'MISC'), ('Béatrice Colin', 'PER'), ('Capitole', 'LOC'), ('Facebook', 'MISC'), ('François Piquemal', 'PER'), ('Groupe Toulouse Ensemble', 'ORG'), ('Jean-Christophe Cheronnet', 'PER'), ('Jean-Luc Moudenc', 'PER'), ('June 26', 'MISC'), ('LR', 'ORG'), ('LREM', 'ORG'), ('M.Moudenc', 'LOC'), ('Toulouse', 'LOC')], [('Bulletins valables', 'MISC'), ('Covid-19', 'MISC'), ('Mathieu Pattier', 'PER'), ('SIPA', 'ORG')], [('AFP', 'ORG'), ('Alain Bentolia', 'PER'), ('Alain Bentolila', 'PER'), ('Alexis Torchet', 'PER'), ('Benoît Ribadeau', 'PER'), ('Billancourt', 'LOC'), ('Boulogne', 'LOC'), ('Brigitte Macron', 'PER'), ('CFDT', 'ORG'), ('Cned', 'LOC'), ('Dumas »', 'PER'), ('E3C', 'MISC'), ('Edouard Philippe', 'PER'), ('Education nationale', 'ORG'), ('Elysée', 'ORG'), ('Emmanuel Macron', 'PER'), ('Europe', 'LOC'), ('Europe 1', 'ORG'), ('Fiducial', 'ORG'), ('France', 'LOC'), ('France Inter', 'ORG'), ('Français', 'LOC'), ('François Bayrou', 'PER'), ('Frédéric Dabi', 'PER'), ('Ifop', 'ORG'), ('Jean-Michel Blanquer', 'PER'), ('Jules Verne', 'PER'), ('Julien Cahon', 'PER'), ('La France', 'LOC'), ('Le Drian', 'PER'), ('Le Maire', 'PER'), ('Le Parisien', 'ORG'), ('Matignon', 'LOC'), ('Matignon', 'PER'), ('Picardie', 'LOC'), ('Poitiers', 'LOC'), ('Pronote', 'MISC'), ('Rouvrir', 'LOC'), ('Sgen', 'ORG'), ('Sud', 'LOC'), ('Symboliquement', 'PER'), ('Sénat', 'ORG'), ('Véran', 'PER'), ('l’Assemblée nationale', 'LOC'), ('l’Histoire', 'MISC'), ('ministre de l’Education', 'ORG'), ('ministère de l’Education nationale', 'ORG'), ('rue de Grenelle', 'LOC'), ('Édouard Philippe', 'PER')], [('Assemblée', 'ORG'), ('Bruno Bonnell', 'PER'), ('Bruno Cautrès', 'PER'), ('CNRS', 'ORG'), ('Ca', 'LOC'), ('Centre', 'LOC'), ('Cese', 'ORG'), ('Cevipof', 'ORG'), ('Conseil constitutionnel', 'ORG'), ('Convention citoyenne pour le climat', 'ORG'), ('Convention citoyenne pour le climat lundi', 'ORG'), ('EELV', 'ORG'), ('Ecologie', 'ORG'), ('Edouard Philippe', 'PER'), ('Elysée', 'ORG'), ('Emmanuel Macron', 'PER'), ('Etat', 'LOC'), ('Etat', 'ORG'), ('Europe', 'LOC'), ('Français', 'LOC'), ('François Hollande', 'PER'), ('Julien Chavanne', 'PER'), ('June 25', 'MISC'), ('LREM', 'ORG'), ('Matthieu Orphelin', 'PER'), ('Nicolas Sarkozy', 'PER'), ('OBIN', 'MISC'), ('Paris', 'LOC'), ('Paris Normandie', 'LOC'), ('Premier ministre', 'MISC'), ('Premier ministre', 'PER'), ('Remaniement #Municipales2020 #tantmieux', 'MISC'), ('Rhône', 'LOC'), ('SIPA', 'ORG'), ('Sciences Po', 'ORG'), ('Sylvain Maillard', 'PER'), ('Sénat', 'ORG'), ('UTRECHT', 'ORG'), ('Union européenne', 'ORG'), ('au Havre', 'LOC'), ('la France', 'LOC'), ('président de la République', 'PER'), ('Ça', 'MISC')], [('Buzyn', 'PER'), ('Dati', 'PER'), ('Madame Buzyn', 'PER'), ('Madame Dati', 'PER'), ('Paris', 'LOC'), ('Parisien', 'LOC')], [('20 Minutes', 'MISC'), ('Agnès Buzyn', 'PER'), ('Anne Hidalgo', 'PER'), ('Conseil Scientifique', 'ORG'), ('Crise du coronavirus', 'MISC'), ('J', 'MISC'), ('LR', 'ORG'), ('LREM', 'ORG'), ('PS', 'ORG'), ('Paris', 'LOC'), ('ROMUALD MEIGNEUX', 'MISC'), ('Rachida Dati', 'PER'), ('SCRUTIN', 'MISC'), ('SIPA', 'ORG'), ('Ville de Paris', 'LOC')], [('Bettencourt', 'PER'), ('Cour de cassation', 'LOC'), ('Etat', 'LOC'), ('Gilbert Azibert', 'PER'), ('June 25', 'MISC'), ('Le Point', 'ORG'), ('Me Dupond', 'PER'), ('Me Thierry Herzog', 'PER'), ('Monaco', 'LOC'), ('Moretti', 'PER'), ('NS', 'ORG'), ('Nicolas Sarkozy', 'PER'), ('PNF', 'ORG'), ('Paris', 'LOC'), ('Point', 'ORG'), ('R.Gaillar', 'ORG'), ('Sipa', 'ORG'), ('Thierry Herzog', 'PER')], [('20 Minutes', 'MISC'), ('Alexis Kohler', 'PER'), ('André Feffer', 'PER'), ('Anticor', 'ORG'), ('Bercy', 'LOC'), ('Bruno Bonnell', 'PER'), ('Conseil supérieur de la magistrature', 'ORG'), ('Constitution', 'MISC'), ('Elise Van Beneden', 'PER'), ('Elysée', 'ORG'), ('Emmanuel Macron', 'PER'), ('Etat', 'LOC'), ('Finances', 'ORG'), ('France', 'LOC'), ('Gilbert Collard', 'PER'), ('Jacques Witt', 'PER'), ('June 25', 'MISC'), ('LREM', 'ORG'), ('Libération', 'ORG'), ('MSC', 'ORG'), ('Marc', 'PER'), ('Mediapart', 'ORG'), ('Mediterrannean Shipping Company', 'ORG'), ('Michel Lascombe', 'PER'), ('PNF', 'ORG'), ('Paris', 'LOC'), ('Parti socialiste', 'ORG'), ('Pierre Person', 'PER'), ('Public Sénat', 'ORG'), ('Rassemblement national', 'ORG'), ('Rhône', 'LOC'), ('République', 'LOC'), ('SIPA', 'ORG'), ('STX', 'ORG'), ('Saint-Nazaire', 'LOC'), ('SÉPARATION DES POUVOIRS', 'MISC'), ('Transparency International', 'ORG'), ('Ugo Bernalicis', 'PER'), ('affaire Kohler', 'PER'), ('conseil de Défense', 'ORG'), ('député insoumis du Nord', 'ORG'), ('ministre de l’Economie', 'ORG'), ('ministère de l’Economie', 'ORG'), ('président de la République', 'PER'), ('Élysée', 'LOC')], [('Adrexo', 'ORG'), ('C. Allain', 'PER'), ('CNIL', 'ORG'), ('Carole Gandon', 'PER'), ('Commission nationale de l’informatique et des libertés', 'ORG'), ('Emeric Salmon', 'PER'), ('June 23', 'MISC'), ('LREM', 'ORG'), ('La République', 'ORG'), ('MUNICIPALES Lundi', 'ORG'), ('Olivier Dulucq', 'PER'), ('Rassemblement national', 'ORG'), ('Rennais', 'LOC'), ('Rennes', 'LOC'), ('SMS', 'MISC'), ('Walter Mickael', 'PER'), ('⬇️ pic.twitter.com/xrdbwOe13A', 'MISC')]]\nwords_cooc_matrix:\n[[0 0 0 ... 0 0 0]\n [0 0 0 ... 0 0 0]\n [0 0 0 ... 0 0 0]\n ...\n [0 0 0 ... 0 0 0]\n [0 0 0 ... 0 0 0]\n [0 0 0 ... 0 0 0]]\n"
    }
   ],
   "source": [
    "words_cooc_matrix, word_to_id = create_co_occurences_matrix(unique_values, ners)"
   ]
  },
  {
   "cell_type": "code",
   "execution_count": 217,
   "metadata": {},
   "outputs": [],
   "source": [
    "#Create inv id-> word\n",
    "id_to_word = {}\n",
    "for k, v in word_to_id.items():\n",
    "    id_to_word[v] = k"
   ]
  },
  {
   "cell_type": "code",
   "execution_count": 177,
   "metadata": {},
   "outputs": [],
   "source": [
    "import logging\n",
    "from neo4j import GraphDatabase\n",
    "from neo4j.exceptions import ServiceUnavailable\n",
    "\n",
    "class App:\n",
    "\n",
    "    def __init__(self, uri):\n",
    "        self.driver = GraphDatabase.driver(uri)\n",
    "\n",
    "    def close(self):\n",
    "        # Don't forget to close the driver connection when you are finished with it\n",
    "        self.driver.close()\n",
    "\n",
    "    def create_entity(self, entity_name,entity_type):\n",
    "        with self.driver.session() as session:\n",
    "            # Write transactions allow the driver to handle retries and transient errors\n",
    "            session.write_transaction(self._create_entity,entity_name,entity_type)\n",
    "\n",
    "    def create_relationship(self, entity1_name,\n",
    "                            entity1_type,\n",
    "                            entity2_name,\n",
    "                            entity2_type,\n",
    "                            weight):\n",
    "        with self.driver.session() as session:\n",
    "            # Write transactions allow the driver to handle retries and transient errors\n",
    "            session.write_transaction(self._create_relationship,entity1_name,entity1_type,\n",
    "                                     entity2_name,entity2_type,weight)\n",
    "\n",
    "    @staticmethod\n",
    "    def _create_entity(tx, entity_name,entity_type):\n",
    "\n",
    "        if entity_type == \"PER\":\n",
    "            query = (\n",
    "                \"CREATE (p1:Person { name: $entity_name }) \"\n",
    "                \"RETURN p1\"\n",
    "            )\n",
    "        elif entity_type == \"ORG\":\n",
    "            query = (\n",
    "                \"CREATE (p1:Org { name: $entity_name }) \"\n",
    "                \"RETURN p1\"\n",
    "            )\n",
    "        elif entity_type == \"LOC\":\n",
    "            query = (\n",
    "                \"CREATE (p1:Location { name: $entity_name }) \"\n",
    "                \"RETURN p1\"\n",
    "            )\n",
    "        else:\n",
    "            query = (\n",
    "                \"CREATE (p1:Misc { name: $entity_name }) \"\n",
    "                \"RETURN p1\"\n",
    "            )\n",
    "\n",
    "        result = tx.run(query, entity_name=entity_name,entity_type=entity_type)\n",
    "        try:\n",
    "            return [{\"p1\": record[\"p1\"][\"name\"]}\n",
    "                    for record in result]\n",
    "        # Capture any errors along with the query and data for traceability\n",
    "        except ServiceUnavailable as exception:\n",
    "            logging.error(\"{query} raised an error: \\n {exception}\".format(\n",
    "                query=query, exception=exception))\n",
    "            raise\n",
    "\n",
    "\n",
    "    @staticmethod\n",
    "    def _create_relationship(tx, entity1_name,entity1_type, entity2_name,entity2_type,weight):\n",
    "\n",
    "        # To learn more about the Cypher syntax,\n",
    "        # see https://neo4j.com/docs/cypher-manual/current/\n",
    "\n",
    "        # The Reference Card is also a good resource for keywords,\n",
    "        # see https://neo4j.com/docs/cypher-refcard/current/\n",
    "\n",
    "        if entity1_type == \"PER\":\n",
    "            ent1 = \"MATCH (p1: Person { name: $entity1_name })\"\n",
    "        elif entity1_type == \"ORG\":\n",
    "            ent1 = \"MATCH (p1: Org { name: $entity1_name })\"\n",
    "        elif entity1_type == \"LOC\":\n",
    "            ent1 = \"MATCH (p1: Location { name: $entity1_name })\"\n",
    "        else:\n",
    "            ent1 = \"MATCH (p1: Misc { name: $entity1_name })\"\n",
    "\n",
    "        if entity2_type == \"PER\":\n",
    "            ent2 = \"MATCH (p2: Person { name: $entity2_name })\"\n",
    "        elif entity2_type == \"ORG\":\n",
    "            ent2 = \"MATCH (p2: Org { name: $entity2_name })\"\n",
    "        elif entity2_type == \"LOC\":\n",
    "            ent2 = \"MATCH (p2: Location { name: $entity2_name })\"\n",
    "        else:\n",
    "            ent2 = \"MATCH (p2: Misc { name: $entity2_name })\"\n",
    "\n",
    "        query = (\n",
    "            ent1 + ent2 +\n",
    "            \"CREATE (p1)-[:co{ weight: $weight }]->(p2) \"\n",
    "            \"RETURN p1, p2\"\n",
    "        )\n",
    "        result = tx.run(query, \n",
    "                        entity1_name=entity1_name, \n",
    "                        entity2_name=entity2_name,\n",
    "                        entity1_type=entity1_type, \n",
    "                        entity2_type=entity2_type,\n",
    "                        weight=weight)\n",
    "        try:\n",
    "            return [{\"p1\": record[\"p1\"][\"name\"], \"p2\": record[\"p2\"][\"name\"]}\n",
    "                    for record in result]\n",
    "        # Capture any errors along with the query and data for traceability\n",
    "        except ServiceUnavailable as exception:\n",
    "            logging.error(\"{query} raised an error: \\n {exception}\".format(\n",
    "                query=query, exception=exception))\n",
    "            raise\n",
    "\n",
    "\n",
    "# if __name__ == \"__main__\":\n",
    "#     # See https://neo4j.com/developer/aura-connect-driver/ for Aura specific connection URL.\n",
    "#     scheme = \"bolt\"  # Connecting to Aura, use the \"neo4j+s\" URI scheme\n",
    "#     host_name = \"localhost\"\n",
    "#     port = 7687\n",
    "#     url = \"{scheme}://{host_name}:{port}\".format(scheme=scheme, host_name=host_name, port=port)\n",
    "#     app = App(url)\n",
    "#     app.create_friendship(\"Alice\", \"David\")\n",
    "#     app.close()"
   ]
  },
  {
   "cell_type": "code",
   "execution_count": 180,
   "metadata": {
    "tags": []
   },
   "outputs": [],
   "source": [
    "#Create all entities\n",
    "\n",
    "scheme = \"neo4j\"  # Connecting to Aura, use the \"neo4j+s\" URI scheme\n",
    "#     \n",
    "host_name = \"localhost\"\n",
    "port = 11003\n",
    "\n",
    "url = \"{scheme}://{host_name}:{port}\".format(scheme=scheme, host_name=host_name, port=port)\n",
    "app = App(url)\n",
    "\n",
    "#Create entities\n",
    "for k in word_to_id.keys():\n",
    "    app.create_entity(k[0],k[1])\n",
    "\n",
    "#Create relationships\n",
    "for l in range(0,words_cooc_matrix.shape[0]):\n",
    "    for c in range(0, words_cooc_matrix.shape[1]):\n",
    "        if words_cooc_matrix[l,c] > 0:\n",
    "            app.create_relationship(id_to_word[l][0],id_to_word[l][1],\n",
    "                                    id_to_word[c][0],id_to_word[c][1],int(words_cooc_matrix[l,c]))\n",
    "\n",
    "app.close()"
   ]
  },
  {
   "cell_type": "code",
   "execution_count": null,
   "metadata": {},
   "outputs": [],
   "source": []
  }
 ]
}